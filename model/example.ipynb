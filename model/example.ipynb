{
 "cells": [
  {
   "cell_type": "code",
   "execution_count": 7,
   "metadata": {},
   "outputs": [],
   "source": [
    "import warnings\n",
    "warnings.filterwarnings('ignore')\n",
    "\n",
    "from datetime import datetime\n",
    "import pandas as pd"
   ]
  },
  {
   "cell_type": "code",
   "execution_count": 8,
   "metadata": {},
   "outputs": [],
   "source": [
    "from utils import get_all_top_30\n",
    "from utils import get_keywords\n",
    "from utils import get_search_news\n",
    "from database import WRITEMEDataBase"
   ]
  },
  {
   "cell_type": "code",
   "execution_count": 9,
   "metadata": {},
   "outputs": [],
   "source": [
    "db = WRITEMEDataBase()"
   ]
  },
  {
   "cell_type": "code",
   "execution_count": 10,
   "metadata": {},
   "outputs": [],
   "source": [
    "now = datetime.now()\n",
    "date = '%04d%02d%02d' % (now.year, now.month, now.day)\n",
    "time = now.strftime(\"%p\").lower()"
   ]
  },
  {
   "cell_type": "markdown",
   "metadata": {},
   "source": [
    "# 1. News Crawling"
   ]
  },
  {
   "cell_type": "code",
   "execution_count": 5,
   "metadata": {},
   "outputs": [
    {
     "data": {
      "text/html": [
       "<div>\n",
       "<style scoped>\n",
       "    .dataframe tbody tr th:only-of-type {\n",
       "        vertical-align: middle;\n",
       "    }\n",
       "\n",
       "    .dataframe tbody tr th {\n",
       "        vertical-align: top;\n",
       "    }\n",
       "\n",
       "    .dataframe thead th {\n",
       "        text-align: right;\n",
       "    }\n",
       "</style>\n",
       "<table border=\"1\" class=\"dataframe\">\n",
       "  <thead>\n",
       "    <tr style=\"text-align: right;\">\n",
       "      <th></th>\n",
       "      <th>title</th>\n",
       "      <th>text</th>\n",
       "      <th>url</th>\n",
       "      <th>category</th>\n",
       "      <th>date</th>\n",
       "    </tr>\n",
       "  </thead>\n",
       "  <tbody>\n",
       "    <tr>\n",
       "      <th>0</th>\n",
       "      <td>[속보]형제복지원 피해자 농성 중단…여야 '과거사법' 처리 합의</td>\n",
       "      <td>부산 형제복지원 피해자 최승우씨가 7일 농성을 중단하고 내려와 김무성 ...</td>\n",
       "      <td>https://news.naver.com/main/ranking/read.nhn?r...</td>\n",
       "      <td>정치</td>\n",
       "      <td>20200507</td>\n",
       "    </tr>\n",
       "    <tr>\n",
       "      <th>30</th>\n",
       "      <td>[속보]준법감시위, 이재용 대국민 사과에 ”구체적 실행방안 마련해달라“</td>\n",
       "      <td>삼성그룹 준법감시위원회가 7일 이재용 삼성전자 부회장(52)의 대...</td>\n",
       "      <td>https://news.naver.com/main/ranking/read.nhn?r...</td>\n",
       "      <td>경제</td>\n",
       "      <td>20200507</td>\n",
       "    </tr>\n",
       "    <tr>\n",
       "      <th>60</th>\n",
       "      <td>[속보] 교육부 “대구 등교 일정, 날짜 당기는 것만 금지”</td>\n",
       "      <td>[서울신문]개학 앞두고 ‘에어컨 점검 및 교실 환기’ - 고등학교...</td>\n",
       "      <td>https://news.naver.com/main/ranking/read.nhn?r...</td>\n",
       "      <td>사회</td>\n",
       "      <td>20200507</td>\n",
       "    </tr>\n",
       "    <tr>\n",
       "      <th>90</th>\n",
       "      <td>아픈 어머니를 땅속에 파묻은 아들, 어머니는 사흘을 견뎠다</td>\n",
       "      <td>중국 산시성에서 반신불수 노모 생매장며느리 신고로 출동한 경찰이 구출노...</td>\n",
       "      <td>https://news.naver.com/main/ranking/read.nhn?r...</td>\n",
       "      <td>세계</td>\n",
       "      <td>20200507</td>\n",
       "    </tr>\n",
       "    <tr>\n",
       "      <th>120</th>\n",
       "      <td>[핵잼 사이언스] 고대 오징어가 물고기 잡아먹는 순간…2억년 전 화석 발견</td>\n",
       "      <td>[서울신문 나우뉴스]고대 오징어가 물고기 잡아먹는 순간…2억년 전...</td>\n",
       "      <td>https://news.naver.com/main/ranking/read.nhn?r...</td>\n",
       "      <td>IT/과학</td>\n",
       "      <td>20200507</td>\n",
       "    </tr>\n",
       "  </tbody>\n",
       "</table>\n",
       "</div>"
      ],
      "text/plain": [
       "                                         title  \\\n",
       "0          [속보]형제복지원 피해자 농성 중단…여야 '과거사법' 처리 합의   \n",
       "30     [속보]준법감시위, 이재용 대국민 사과에 ”구체적 실행방안 마련해달라“   \n",
       "60           [속보] 교육부 “대구 등교 일정, 날짜 당기는 것만 금지”   \n",
       "90            아픈 어머니를 땅속에 파묻은 아들, 어머니는 사흘을 견뎠다   \n",
       "120  [핵잼 사이언스] 고대 오징어가 물고기 잡아먹는 순간…2억년 전 화석 발견   \n",
       "\n",
       "                                                  text  \\\n",
       "0           부산 형제복지원 피해자 최승우씨가 7일 농성을 중단하고 내려와 김무성 ...   \n",
       "30             삼성그룹 준법감시위원회가 7일 이재용 삼성전자 부회장(52)의 대...   \n",
       "60             [서울신문]개학 앞두고 ‘에어컨 점검 및 교실 환기’ - 고등학교...   \n",
       "90          중국 산시성에서 반신불수 노모 생매장며느리 신고로 출동한 경찰이 구출노...   \n",
       "120            [서울신문 나우뉴스]고대 오징어가 물고기 잡아먹는 순간…2억년 전...   \n",
       "\n",
       "                                                   url category      date  \n",
       "0    https://news.naver.com/main/ranking/read.nhn?r...       정치  20200507  \n",
       "30   https://news.naver.com/main/ranking/read.nhn?r...       경제  20200507  \n",
       "60   https://news.naver.com/main/ranking/read.nhn?r...       사회  20200507  \n",
       "90   https://news.naver.com/main/ranking/read.nhn?r...       세계  20200507  \n",
       "120  https://news.naver.com/main/ranking/read.nhn?r...    IT/과학  20200507  "
      ]
     },
     "execution_count": 5,
     "metadata": {},
     "output_type": "execute_result"
    }
   ],
   "source": [
    "df = get_all_top_30()\n",
    "df.groupby('category').head(1)"
   ]
  },
  {
   "cell_type": "markdown",
   "metadata": {},
   "source": [
    "# 2. Get keywords"
   ]
  },
  {
   "cell_type": "code",
   "execution_count": 6,
   "metadata": {},
   "outputs": [],
   "source": [
    "keywords = df.groupby('category').apply(get_keywords)"
   ]
  },
  {
   "cell_type": "code",
   "execution_count": 7,
   "metadata": {},
   "outputs": [
    {
     "data": {
      "text/plain": [
       "category\n",
       "IT/과학     [벨벳, 카카오, 코로나, 전자, 화석]\n",
       "경제       [남양유업, 아파트, 조사, 기부, 확진]\n",
       "사회         [클럽, 확진, 방문, 코로나, 등교]\n",
       "세계         [아베, 코로나, 가스, 총리, 인도]\n",
       "정치       [기부, 원내대표, 의원, 지원금, 재난]\n",
       "dtype: object"
      ]
     },
     "execution_count": 7,
     "metadata": {},
     "output_type": "execute_result"
    }
   ],
   "source": [
    "keywords"
   ]
  },
  {
   "cell_type": "markdown",
   "metadata": {},
   "source": [
    "# 3. To DB - keyword"
   ]
  },
  {
   "cell_type": "code",
   "execution_count": 8,
   "metadata": {},
   "outputs": [
    {
     "data": {
      "text/plain": [
       "()"
      ]
     },
     "execution_count": 8,
     "metadata": {},
     "output_type": "execute_result"
    }
   ],
   "source": [
    "db.select_keywords()"
   ]
  },
  {
   "cell_type": "code",
   "execution_count": 9,
   "metadata": {},
   "outputs": [],
   "source": [
    "for category, keyword in keywords.iteritems():\n",
    "    db.insert_keywords(keyword, category, date, time)"
   ]
  },
  {
   "cell_type": "code",
   "execution_count": 16,
   "metadata": {},
   "outputs": [
    {
     "data": {
      "text/html": [
       "<div>\n",
       "<style scoped>\n",
       "    .dataframe tbody tr th:only-of-type {\n",
       "        vertical-align: middle;\n",
       "    }\n",
       "\n",
       "    .dataframe tbody tr th {\n",
       "        vertical-align: top;\n",
       "    }\n",
       "\n",
       "    .dataframe thead th {\n",
       "        text-align: right;\n",
       "    }\n",
       "</style>\n",
       "<table border=\"1\" class=\"dataframe\">\n",
       "  <thead>\n",
       "    <tr style=\"text-align: right;\">\n",
       "      <th></th>\n",
       "      <th>keywordID</th>\n",
       "      <th>categoryID</th>\n",
       "      <th>keywordName</th>\n",
       "      <th>date</th>\n",
       "      <th>time</th>\n",
       "    </tr>\n",
       "  </thead>\n",
       "  <tbody>\n",
       "    <tr>\n",
       "      <th>23</th>\n",
       "      <td>24</td>\n",
       "      <td>1</td>\n",
       "      <td>기부</td>\n",
       "      <td>2020-05-07</td>\n",
       "      <td>pm</td>\n",
       "    </tr>\n",
       "  </tbody>\n",
       "</table>\n",
       "</div>"
      ],
      "text/plain": [
       "    keywordID  categoryID keywordName        date time\n",
       "23         24           1          기부  2020-05-07   pm"
      ]
     },
     "execution_count": 16,
     "metadata": {},
     "output_type": "execute_result"
    }
   ],
   "source": [
    "result = db.select_keywords()\n",
    "result = pd.DataFrame(result)\n",
    "result.iloc[23:24]"
   ]
  },
  {
   "cell_type": "code",
   "execution_count": 37,
   "metadata": {},
   "outputs": [],
   "source": [
    "# db.delete_keywords()"
   ]
  },
  {
   "cell_type": "markdown",
   "metadata": {},
   "source": [
    "# 4. Get hints"
   ]
  },
  {
   "cell_type": "code",
   "execution_count": 19,
   "metadata": {},
   "outputs": [],
   "source": [
    "keywordID = 24"
   ]
  },
  {
   "cell_type": "code",
   "execution_count": 20,
   "metadata": {},
   "outputs": [
    {
     "name": "stdout",
     "output_type": "stream",
     "text": [
      "기부 ['기부', '지원금', '대통령', '재난', '긴급']\n"
     ]
    }
   ],
   "source": [
    "keywordName = db.keywordName(keywordID)\n",
    "df = get_search_news(keywordName)\n",
    "hints = get_keywords(df, only_noun=True)\n",
    "\n",
    "print(keywordName, hints)"
   ]
  },
  {
   "cell_type": "code",
   "execution_count": null,
   "metadata": {},
   "outputs": [],
   "source": []
  },
  {
   "cell_type": "markdown",
   "metadata": {},
   "source": [
    "# 5. To DB - hint"
   ]
  },
  {
   "cell_type": "code",
   "execution_count": 44,
   "metadata": {},
   "outputs": [
    {
     "data": {
      "text/plain": [
       "[{'keywordID': 1, 'hintID': 1, 'hintName': '벨벳'},\n",
       " {'keywordID': 1, 'hintID': 2, 'hintName': '뉴시스'},\n",
       " {'keywordID': 1, 'hintID': 3, 'hintName': '디자인'},\n",
       " {'keywordID': 1, 'hintID': 4, 'hintName': '영상'},\n",
       " {'keywordID': 1, 'hintID': 5, 'hintName': '예약'},\n",
       " {'keywordID': 2, 'hintID': 6, 'hintName': '환자'},\n",
       " {'keywordID': 2, 'hintID': 7, 'hintName': '코로나'},\n",
       " {'keywordID': 2, 'hintID': 8, 'hintName': '한국'},\n",
       " {'keywordID': 2, 'hintID': 9, 'hintName': '수출'},\n",
       " {'keywordID': 2, 'hintID': 10, 'hintName': '수지'},\n",
       " {'keywordID': 3, 'hintID': 11, 'hintName': '카카오'},\n",
       " {'keywordID': 3, 'hintID': 12, 'hintName': '대비'},\n",
       " {'keywordID': 3, 'hintID': 13, 'hintName': '분기'},\n",
       " {'keywordID': 3, 'hintID': 14, 'hintName': '매출'},\n",
       " {'keywordID': 3, 'hintID': 15, 'hintName': '전년'},\n",
       " {'keywordID': 4, 'hintID': 16, 'hintName': '화석'},\n",
       " {'keywordID': 4, 'hintID': 17, 'hintName': '사냥'},\n",
       " {'keywordID': 4, 'hintID': 18, 'hintName': '생산'},\n",
       " {'keywordID': 4, 'hintID': 19, 'hintName': '쿠스'},\n",
       " {'keywordID': 4, 'hintID': 20, 'hintName': '숙신산'},\n",
       " {'keywordID': 5, 'hintID': 21, 'hintName': '매출'},\n",
       " {'keywordID': 5, 'hintID': 22, 'hintName': '분기'},\n",
       " {'keywordID': 5, 'hintID': 23, 'hintName': '증가'},\n",
       " {'keywordID': 5, 'hintID': 24, 'hintName': '성장'},\n",
       " {'keywordID': 5, 'hintID': 25, 'hintName': '대비'},\n",
       " {'keywordID': 6, 'hintID': 26, 'hintName': '남양유업'},\n",
       " {'keywordID': 6, 'hintID': 27, 'hintName': '경쟁사'},\n",
       " {'keywordID': 6, 'hintID': 28, 'hintName': '홍보'},\n",
       " {'keywordID': 6, 'hintID': 29, 'hintName': '비방'},\n",
       " {'keywordID': 6, 'hintID': 30, 'hintName': '경찰'},\n",
       " {'keywordID': 7, 'hintID': 31, 'hintName': '조사'},\n",
       " {'keywordID': 7, 'hintID': 32, 'hintName': '국세청'},\n",
       " {'keywordID': 7, 'hintID': 33, 'hintName': '아파트'},\n",
       " {'keywordID': 7, 'hintID': 34, 'hintName': '증여'},\n",
       " {'keywordID': 7, 'hintID': 35, 'hintName': '자금'},\n",
       " {'keywordID': 8, 'hintID': 36, 'hintName': '삼성'},\n",
       " {'keywordID': 8, 'hintID': 37, 'hintName': '경영'},\n",
       " {'keywordID': 8, 'hintID': 38, 'hintName': '부회장'},\n",
       " {'keywordID': 8, 'hintID': 39, 'hintName': '준법'},\n",
       " {'keywordID': 8, 'hintID': 40, 'hintName': '노조'},\n",
       " {'keywordID': 9, 'hintID': 41, 'hintName': '삼성'},\n",
       " {'keywordID': 9, 'hintID': 42, 'hintName': '부회장'},\n",
       " {'keywordID': 9, 'hintID': 43, 'hintName': '경영'},\n",
       " {'keywordID': 9, 'hintID': 44, 'hintName': '사과'},\n",
       " {'keywordID': 9, 'hintID': 45, 'hintName': '승계'},\n",
       " {'keywordID': 10, 'hintID': 46, 'hintName': '조사'},\n",
       " {'keywordID': 10, 'hintID': 47, 'hintName': '국세청'},\n",
       " {'keywordID': 10, 'hintID': 48, 'hintName': '지방'},\n",
       " {'keywordID': 10, 'hintID': 49, 'hintName': '자금'},\n",
       " {'keywordID': 10, 'hintID': 50, 'hintName': '증여'},\n",
       " {'keywordID': 11, 'hintID': 51, 'hintName': '클럽'},\n",
       " {'keywordID': 11, 'hintID': 52, 'hintName': '확진'},\n",
       " {'keywordID': 11, 'hintID': 53, 'hintName': '방문'},\n",
       " {'keywordID': 11, 'hintID': 54, 'hintName': '코로나'},\n",
       " {'keywordID': 11, 'hintID': 55, 'hintName': '뉴스'},\n",
       " {'keywordID': 12, 'hintID': 56, 'hintName': '확진'},\n",
       " {'keywordID': 12, 'hintID': 57, 'hintName': '클럽'},\n",
       " {'keywordID': 12, 'hintID': 58, 'hintName': '방문'},\n",
       " {'keywordID': 12, 'hintID': 59, 'hintName': '코로나'},\n",
       " {'keywordID': 12, 'hintID': 60, 'hintName': '접촉자'},\n",
       " {'keywordID': 13, 'hintID': 61, 'hintName': '클럽'},\n",
       " {'keywordID': 13, 'hintID': 62, 'hintName': '확진'},\n",
       " {'keywordID': 13, 'hintID': 63, 'hintName': '방문'},\n",
       " {'keywordID': 13, 'hintID': 64, 'hintName': '코로나'},\n",
       " {'keywordID': 13, 'hintID': 65, 'hintName': '뉴스'},\n",
       " {'keywordID': 14, 'hintID': 66, 'hintName': '환자'},\n",
       " {'keywordID': 14, 'hintID': 67, 'hintName': '코로나'},\n",
       " {'keywordID': 14, 'hintID': 68, 'hintName': '한국'},\n",
       " {'keywordID': 14, 'hintID': 69, 'hintName': '수출'},\n",
       " {'keywordID': 14, 'hintID': 70, 'hintName': '수지'},\n",
       " {'keywordID': 15, 'hintID': 71, 'hintName': '확진'},\n",
       " {'keywordID': 15, 'hintID': 72, 'hintName': '접촉자'},\n",
       " {'keywordID': 15, 'hintID': 73, 'hintName': '코로나'},\n",
       " {'keywordID': 15, 'hintID': 74, 'hintName': '클럽'},\n",
       " {'keywordID': 15, 'hintID': 75, 'hintName': '방문'},\n",
       " {'keywordID': 16, 'hintID': 76, 'hintName': '공장'},\n",
       " {'keywordID': 16, 'hintID': 77, 'hintName': '가스'},\n",
       " {'keywordID': 16, 'hintID': 78, 'hintName': '배출'},\n",
       " {'keywordID': 16, 'hintID': 79, 'hintName': '벤츠'},\n",
       " {'keywordID': 16, 'hintID': 80, 'hintName': '인도'},\n",
       " {'keywordID': 17, 'hintID': 81, 'hintName': '공장'},\n",
       " {'keywordID': 17, 'hintID': 82, 'hintName': '가스'},\n",
       " {'keywordID': 17, 'hintID': 83, 'hintName': '주민'},\n",
       " {'keywordID': 17, 'hintID': 84, 'hintName': '인도'},\n",
       " {'keywordID': 17, 'hintID': 85, 'hintName': '화학'},\n",
       " {'keywordID': 18, 'hintID': 86, 'hintName': '일본'},\n",
       " {'keywordID': 18, 'hintID': 87, 'hintName': '할머니'},\n",
       " {'keywordID': 18, 'hintID': 88, 'hintName': '코로나'},\n",
       " {'keywordID': 18, 'hintID': 89, 'hintName': '검사'},\n",
       " {'keywordID': 18, 'hintID': 90, 'hintName': '사태'},\n",
       " {'keywordID': 19, 'hintID': 91, 'hintName': '아베'},\n",
       " {'keywordID': 19, 'hintID': 92, 'hintName': '총리'},\n",
       " {'keywordID': 19, 'hintID': 93, 'hintName': '코로나'},\n",
       " {'keywordID': 19, 'hintID': 94, 'hintName': '일본'},\n",
       " {'keywordID': 19, 'hintID': 95, 'hintName': '지사'},\n",
       " {'keywordID': 20, 'hintID': 96, 'hintName': '마스크'},\n",
       " {'keywordID': 20, 'hintID': 97, 'hintName': '지원'},\n",
       " {'keywordID': 20, 'hintID': 98, 'hintName': '착용'},\n",
       " {'keywordID': 20, 'hintID': 99, 'hintName': '트럼프'},\n",
       " {'keywordID': 20, 'hintID': 100, 'hintName': '대통령'},\n",
       " {'keywordID': 21, 'hintID': 101, 'hintName': '수원'},\n",
       " {'keywordID': 21, 'hintID': 102, 'hintName': '의원'},\n",
       " {'keywordID': 21, 'hintID': 103, 'hintName': '원내대표'},\n",
       " {'keywordID': 21, 'hintID': 104, 'hintName': '김태년'},\n",
       " {'keywordID': 21, 'hintID': 105, 'hintName': '지역'},\n",
       " {'keywordID': 22, 'hintID': 106, 'hintName': '의원'},\n",
       " {'keywordID': 22, 'hintID': 107, 'hintName': '원내대표'},\n",
       " {'keywordID': 22, 'hintID': 108, 'hintName': '국회'},\n",
       " {'keywordID': 22, 'hintID': 109, 'hintName': '김태년'},\n",
       " {'keywordID': 22, 'hintID': 110, 'hintName': '민주당'},\n",
       " {'keywordID': 23, 'hintID': 111, 'hintName': '국회'},\n",
       " {'keywordID': 23, 'hintID': 112, 'hintName': '원내대표'},\n",
       " {'keywordID': 23, 'hintID': 113, 'hintName': '의원'},\n",
       " {'keywordID': 23, 'hintID': 114, 'hintName': '민주당'},\n",
       " {'keywordID': 23, 'hintID': 115, 'hintName': '김태년'},\n",
       " {'keywordID': 24, 'hintID': 116, 'hintName': '기부'},\n",
       " {'keywordID': 24, 'hintID': 117, 'hintName': '지원금'},\n",
       " {'keywordID': 24, 'hintID': 118, 'hintName': '대통령'},\n",
       " {'keywordID': 24, 'hintID': 119, 'hintName': '재난'},\n",
       " {'keywordID': 24, 'hintID': 120, 'hintName': '긴급'},\n",
       " {'keywordID': 25, 'hintID': 121, 'hintName': '원내대표'},\n",
       " {'keywordID': 25, 'hintID': 122, 'hintName': '의원'},\n",
       " {'keywordID': 25, 'hintID': 123, 'hintName': '국회'},\n",
       " {'keywordID': 25, 'hintID': 124, 'hintName': '김태년'},\n",
       " {'keywordID': 25, 'hintID': 125, 'hintName': '민주당'}]"
      ]
     },
     "execution_count": 44,
     "metadata": {},
     "output_type": "execute_result"
    }
   ],
   "source": [
    "db.select_hints()"
   ]
  },
  {
   "cell_type": "code",
   "execution_count": 22,
   "metadata": {},
   "outputs": [],
   "source": [
    "db.insert_hints(keywordID, hints)"
   ]
  },
  {
   "cell_type": "code",
   "execution_count": 22,
   "metadata": {},
   "outputs": [
    {
     "data": {
      "text/html": [
       "<div>\n",
       "<style scoped>\n",
       "    .dataframe tbody tr th:only-of-type {\n",
       "        vertical-align: middle;\n",
       "    }\n",
       "\n",
       "    .dataframe tbody tr th {\n",
       "        vertical-align: top;\n",
       "    }\n",
       "\n",
       "    .dataframe thead th {\n",
       "        text-align: right;\n",
       "    }\n",
       "</style>\n",
       "<table border=\"1\" class=\"dataframe\">\n",
       "  <thead>\n",
       "    <tr style=\"text-align: right;\">\n",
       "      <th></th>\n",
       "      <th>keywordID</th>\n",
       "      <th>hintID</th>\n",
       "      <th>hintName</th>\n",
       "    </tr>\n",
       "  </thead>\n",
       "  <tbody>\n",
       "    <tr>\n",
       "      <th>115</th>\n",
       "      <td>24</td>\n",
       "      <td>116</td>\n",
       "      <td>기부</td>\n",
       "    </tr>\n",
       "    <tr>\n",
       "      <th>116</th>\n",
       "      <td>24</td>\n",
       "      <td>117</td>\n",
       "      <td>지원금</td>\n",
       "    </tr>\n",
       "    <tr>\n",
       "      <th>117</th>\n",
       "      <td>24</td>\n",
       "      <td>118</td>\n",
       "      <td>대통령</td>\n",
       "    </tr>\n",
       "    <tr>\n",
       "      <th>118</th>\n",
       "      <td>24</td>\n",
       "      <td>119</td>\n",
       "      <td>재난</td>\n",
       "    </tr>\n",
       "    <tr>\n",
       "      <th>119</th>\n",
       "      <td>24</td>\n",
       "      <td>120</td>\n",
       "      <td>긴급</td>\n",
       "    </tr>\n",
       "    <tr>\n",
       "      <th>240</th>\n",
       "      <td>24</td>\n",
       "      <td>241</td>\n",
       "      <td>기부</td>\n",
       "    </tr>\n",
       "    <tr>\n",
       "      <th>241</th>\n",
       "      <td>24</td>\n",
       "      <td>242</td>\n",
       "      <td>지원금</td>\n",
       "    </tr>\n",
       "    <tr>\n",
       "      <th>242</th>\n",
       "      <td>24</td>\n",
       "      <td>243</td>\n",
       "      <td>대통령</td>\n",
       "    </tr>\n",
       "    <tr>\n",
       "      <th>243</th>\n",
       "      <td>24</td>\n",
       "      <td>244</td>\n",
       "      <td>재난</td>\n",
       "    </tr>\n",
       "    <tr>\n",
       "      <th>244</th>\n",
       "      <td>24</td>\n",
       "      <td>245</td>\n",
       "      <td>긴급</td>\n",
       "    </tr>\n",
       "    <tr>\n",
       "      <th>490</th>\n",
       "      <td>24</td>\n",
       "      <td>491</td>\n",
       "      <td>기부</td>\n",
       "    </tr>\n",
       "    <tr>\n",
       "      <th>491</th>\n",
       "      <td>24</td>\n",
       "      <td>492</td>\n",
       "      <td>지원금</td>\n",
       "    </tr>\n",
       "    <tr>\n",
       "      <th>492</th>\n",
       "      <td>24</td>\n",
       "      <td>493</td>\n",
       "      <td>대통령</td>\n",
       "    </tr>\n",
       "    <tr>\n",
       "      <th>493</th>\n",
       "      <td>24</td>\n",
       "      <td>494</td>\n",
       "      <td>재난</td>\n",
       "    </tr>\n",
       "    <tr>\n",
       "      <th>494</th>\n",
       "      <td>24</td>\n",
       "      <td>495</td>\n",
       "      <td>긴급</td>\n",
       "    </tr>\n",
       "  </tbody>\n",
       "</table>\n",
       "</div>"
      ],
      "text/plain": [
       "     keywordID  hintID hintName\n",
       "115         24     116       기부\n",
       "116         24     117      지원금\n",
       "117         24     118      대통령\n",
       "118         24     119       재난\n",
       "119         24     120       긴급\n",
       "240         24     241       기부\n",
       "241         24     242      지원금\n",
       "242         24     243      대통령\n",
       "243         24     244       재난\n",
       "244         24     245       긴급\n",
       "490         24     491       기부\n",
       "491         24     492      지원금\n",
       "492         24     493      대통령\n",
       "493         24     494       재난\n",
       "494         24     495       긴급"
      ]
     },
     "execution_count": 22,
     "metadata": {},
     "output_type": "execute_result"
    }
   ],
   "source": [
    "result = db.select_hints()\n",
    "result = pd.DataFrame(result)\n",
    "result[result['keywordID']==24]"
   ]
  },
  {
   "cell_type": "code",
   "execution_count": 38,
   "metadata": {},
   "outputs": [],
   "source": [
    "# db.delete_hints()"
   ]
  },
  {
   "cell_type": "code",
   "execution_count": null,
   "metadata": {},
   "outputs": [],
   "source": []
  },
  {
   "cell_type": "code",
   "execution_count": 39,
   "metadata": {},
   "outputs": [],
   "source": [
    "db.close()"
   ]
  }
 ],
 "metadata": {
  "kernelspec": {
   "display_name": "readme",
   "language": "python",
   "name": "readme"
  },
  "language_info": {
   "codemirror_mode": {
    "name": "ipython",
    "version": 3
   },
   "file_extension": ".py",
   "mimetype": "text/x-python",
   "name": "python",
   "nbconvert_exporter": "python",
   "pygments_lexer": "ipython3",
   "version": "3.7.4"
  },
  "toc": {
   "base_numbering": 1,
   "nav_menu": {},
   "number_sections": true,
   "sideBar": true,
   "skip_h1_title": false,
   "title_cell": "Table of Contents",
   "title_sidebar": "Contents",
   "toc_cell": false,
   "toc_position": {},
   "toc_section_display": true,
   "toc_window_display": false
  }
 },
 "nbformat": 4,
 "nbformat_minor": 4
}
