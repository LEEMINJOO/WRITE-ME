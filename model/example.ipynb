{
 "cells": [
  {
   "cell_type": "code",
   "execution_count": 1,
   "metadata": {},
   "outputs": [],
   "source": [
    "import warnings\n",
    "warnings.filterwarnings('ignore')\n",
    "\n",
    "from datetime import datetime\n",
    "import pandas as pd"
   ]
  },
  {
   "cell_type": "code",
   "execution_count": 2,
   "metadata": {},
   "outputs": [],
   "source": [
    "category = '정치'"
   ]
  },
  {
   "cell_type": "code",
   "execution_count": 3,
   "metadata": {},
   "outputs": [],
   "source": [
    "datetime = datetime(2020,4,28)"
   ]
  },
  {
   "cell_type": "markdown",
   "metadata": {},
   "source": [
    "## crawling"
   ]
  },
  {
   "cell_type": "code",
   "execution_count": 4,
   "metadata": {},
   "outputs": [],
   "source": [
    "from utils import get_top_30, get_all_top_30"
   ]
  },
  {
   "cell_type": "code",
   "execution_count": 5,
   "metadata": {},
   "outputs": [],
   "source": [
    "# get_all_top_30()"
   ]
  },
  {
   "cell_type": "code",
   "execution_count": 6,
   "metadata": {},
   "outputs": [
    {
     "data": {
      "text/html": [
       "<div>\n",
       "<style scoped>\n",
       "    .dataframe tbody tr th:only-of-type {\n",
       "        vertical-align: middle;\n",
       "    }\n",
       "\n",
       "    .dataframe tbody tr th {\n",
       "        vertical-align: top;\n",
       "    }\n",
       "\n",
       "    .dataframe thead th {\n",
       "        text-align: right;\n",
       "    }\n",
       "</style>\n",
       "<table border=\"1\" class=\"dataframe\">\n",
       "  <thead>\n",
       "    <tr style=\"text-align: right;\">\n",
       "      <th></th>\n",
       "      <th>title</th>\n",
       "      <th>text</th>\n",
       "      <th>url</th>\n",
       "      <th>category</th>\n",
       "      <th>date</th>\n",
       "    </tr>\n",
       "  </thead>\n",
       "  <tbody>\n",
       "    <tr>\n",
       "      <th>0</th>\n",
       "      <td>'재산 43억 증가' 양정숙 제명···시민당, 총선전 알고 있었다</td>\n",
       "      <td>28일 오전 서울 여의도 국회에서 열린 더불어민주당 경제를 공부하는...</td>\n",
       "      <td>https://news.naver.com/main/ranking/read.nhn?r...</td>\n",
       "      <td>정치</td>\n",
       "      <td>20200428</td>\n",
       "    </tr>\n",
       "    <tr>\n",
       "      <th>1</th>\n",
       "      <td>“김정은, 혼자 서거나 걷지 못하는 상태인건 분명”</td>\n",
       "      <td>태구민, CNN 인터뷰서 주장“정확한 상태, 가족·측근만 알것”주영국 ...</td>\n",
       "      <td>https://news.naver.com/main/ranking/read.nhn?r...</td>\n",
       "      <td>정치</td>\n",
       "      <td>20200428</td>\n",
       "    </tr>\n",
       "    <tr>\n",
       "      <th>2</th>\n",
       "      <td>청와대, '오거돈 성추행 사전인지' 보도에 \"황당\"</td>\n",
       "      <td>“억지로 연결, 문 대통령 아무 관련 없어… 당리당략 목적 수많은 주장...</td>\n",
       "      <td>https://news.naver.com/main/ranking/read.nhn?r...</td>\n",
       "      <td>정치</td>\n",
       "      <td>20200428</td>\n",
       "    </tr>\n",
       "    <tr>\n",
       "      <th>3</th>\n",
       "      <td>더시민 \"양정숙 당적 박탈 및 고발 방침\"…부실 검증 논란(종합)</td>\n",
       "      <td>4년 만에 43억 증액…명의신탁·부동산실명제 위반 의혹더시민, 오늘 윤...</td>\n",
       "      <td>https://news.naver.com/main/ranking/read.nhn?r...</td>\n",
       "      <td>정치</td>\n",
       "      <td>20200428</td>\n",
       "    </tr>\n",
       "    <tr>\n",
       "      <th>4</th>\n",
       "      <td>김종인이 미는 70년대생? 박지원 \"김세연이라면 도련님\"</td>\n",
       "      <td>김종인 미래통합당 비상대책위원장 내정자가 꺼내 든 ‘40대 경제 ...</td>\n",
       "      <td>https://news.naver.com/main/ranking/read.nhn?r...</td>\n",
       "      <td>정치</td>\n",
       "      <td>20200428</td>\n",
       "    </tr>\n",
       "  </tbody>\n",
       "</table>\n",
       "</div>"
      ],
      "text/plain": [
       "                                  title  \\\n",
       "0  '재산 43억 증가' 양정숙 제명···시민당, 총선전 알고 있었다   \n",
       "1          “김정은, 혼자 서거나 걷지 못하는 상태인건 분명”   \n",
       "2          청와대, '오거돈 성추행 사전인지' 보도에 \"황당\"   \n",
       "3  더시민 \"양정숙 당적 박탈 및 고발 방침\"…부실 검증 논란(종합)   \n",
       "4       김종인이 미는 70년대생? 박지원 \"김세연이라면 도련님\"   \n",
       "\n",
       "                                                text  \\\n",
       "0           28일 오전 서울 여의도 국회에서 열린 더불어민주당 경제를 공부하는...   \n",
       "1         태구민, CNN 인터뷰서 주장“정확한 상태, 가족·측근만 알것”주영국 ...   \n",
       "2         “억지로 연결, 문 대통령 아무 관련 없어… 당리당략 목적 수많은 주장...   \n",
       "3         4년 만에 43억 증액…명의신탁·부동산실명제 위반 의혹더시민, 오늘 윤...   \n",
       "4            김종인 미래통합당 비상대책위원장 내정자가 꺼내 든 ‘40대 경제 ...   \n",
       "\n",
       "                                                 url category      date  \n",
       "0  https://news.naver.com/main/ranking/read.nhn?r...       정치  20200428  \n",
       "1  https://news.naver.com/main/ranking/read.nhn?r...       정치  20200428  \n",
       "2  https://news.naver.com/main/ranking/read.nhn?r...       정치  20200428  \n",
       "3  https://news.naver.com/main/ranking/read.nhn?r...       정치  20200428  \n",
       "4  https://news.naver.com/main/ranking/read.nhn?r...       정치  20200428  "
      ]
     },
     "execution_count": 6,
     "metadata": {},
     "output_type": "execute_result"
    }
   ],
   "source": [
    "df = get_top_30(category)\n",
    "df.head()"
   ]
  },
  {
   "cell_type": "markdown",
   "metadata": {},
   "source": [
    "## Topic"
   ]
  },
  {
   "cell_type": "code",
   "execution_count": 7,
   "metadata": {},
   "outputs": [],
   "source": [
    "from utils import get_topics"
   ]
  },
  {
   "cell_type": "code",
   "execution_count": 8,
   "metadata": {},
   "outputs": [
    {
     "data": {
      "text/plain": [
       "['위원장', '북한', '당선인', '장관', '시민']"
      ]
     },
     "execution_count": 8,
     "metadata": {},
     "output_type": "execute_result"
    }
   ],
   "source": [
    "kewords = get_topics(df, n=5)\n",
    "kewords"
   ]
  },
  {
   "cell_type": "markdown",
   "metadata": {},
   "source": [
    "## To DB"
   ]
  },
  {
   "cell_type": "code",
   "execution_count": 9,
   "metadata": {},
   "outputs": [],
   "source": [
    "from utils import WRITEMEDataBase"
   ]
  },
  {
   "cell_type": "code",
   "execution_count": 10,
   "metadata": {},
   "outputs": [],
   "source": []
  },
  {
   "cell_type": "code",
   "execution_count": 11,
   "metadata": {},
   "outputs": [],
   "source": [
    "db = WRITEMEDataBase()"
   ]
  },
  {
   "cell_type": "code",
   "execution_count": 12,
   "metadata": {
    "scrolled": true
   },
   "outputs": [
    {
     "data": {
      "text/plain": [
       "()"
      ]
     },
     "execution_count": 12,
     "metadata": {},
     "output_type": "execute_result"
    }
   ],
   "source": [
    "db.select_keywords()"
   ]
  },
  {
   "cell_type": "code",
   "execution_count": 13,
   "metadata": {},
   "outputs": [],
   "source": [
    "db.insert_keywords(kewords, category, datetime, 'am')"
   ]
  },
  {
   "cell_type": "code",
   "execution_count": 14,
   "metadata": {},
   "outputs": [
    {
     "data": {
      "text/html": [
       "<div>\n",
       "<style scoped>\n",
       "    .dataframe tbody tr th:only-of-type {\n",
       "        vertical-align: middle;\n",
       "    }\n",
       "\n",
       "    .dataframe tbody tr th {\n",
       "        vertical-align: top;\n",
       "    }\n",
       "\n",
       "    .dataframe thead th {\n",
       "        text-align: right;\n",
       "    }\n",
       "</style>\n",
       "<table border=\"1\" class=\"dataframe\">\n",
       "  <thead>\n",
       "    <tr style=\"text-align: right;\">\n",
       "      <th></th>\n",
       "      <th>keywordID</th>\n",
       "      <th>categoryID</th>\n",
       "      <th>keywordName</th>\n",
       "      <th>date</th>\n",
       "      <th>time</th>\n",
       "    </tr>\n",
       "  </thead>\n",
       "  <tbody>\n",
       "    <tr>\n",
       "      <th>0</th>\n",
       "      <td>1</td>\n",
       "      <td>1</td>\n",
       "      <td>위원장</td>\n",
       "      <td>2020-04-28</td>\n",
       "      <td>am</td>\n",
       "    </tr>\n",
       "    <tr>\n",
       "      <th>1</th>\n",
       "      <td>2</td>\n",
       "      <td>1</td>\n",
       "      <td>북한</td>\n",
       "      <td>2020-04-28</td>\n",
       "      <td>am</td>\n",
       "    </tr>\n",
       "    <tr>\n",
       "      <th>2</th>\n",
       "      <td>3</td>\n",
       "      <td>1</td>\n",
       "      <td>당선인</td>\n",
       "      <td>2020-04-28</td>\n",
       "      <td>am</td>\n",
       "    </tr>\n",
       "    <tr>\n",
       "      <th>3</th>\n",
       "      <td>4</td>\n",
       "      <td>1</td>\n",
       "      <td>장관</td>\n",
       "      <td>2020-04-28</td>\n",
       "      <td>am</td>\n",
       "    </tr>\n",
       "    <tr>\n",
       "      <th>4</th>\n",
       "      <td>5</td>\n",
       "      <td>1</td>\n",
       "      <td>시민</td>\n",
       "      <td>2020-04-28</td>\n",
       "      <td>am</td>\n",
       "    </tr>\n",
       "  </tbody>\n",
       "</table>\n",
       "</div>"
      ],
      "text/plain": [
       "   keywordID  categoryID keywordName        date time\n",
       "0          1           1         위원장  2020-04-28   am\n",
       "1          2           1          북한  2020-04-28   am\n",
       "2          3           1         당선인  2020-04-28   am\n",
       "3          4           1          장관  2020-04-28   am\n",
       "4          5           1          시민  2020-04-28   am"
      ]
     },
     "execution_count": 14,
     "metadata": {},
     "output_type": "execute_result"
    }
   ],
   "source": [
    "result = db.select_keywords()\n",
    "pd.DataFrame(result)"
   ]
  },
  {
   "cell_type": "code",
   "execution_count": 15,
   "metadata": {},
   "outputs": [],
   "source": [
    "# db.delete_keywords()"
   ]
  },
  {
   "cell_type": "code",
   "execution_count": 17,
   "metadata": {},
   "outputs": [],
   "source": [
    "db.curs.close()"
   ]
  },
  {
   "cell_type": "code",
   "execution_count": null,
   "metadata": {},
   "outputs": [],
   "source": []
  }
 ],
 "metadata": {
  "kernelspec": {
   "display_name": "readme",
   "language": "python",
   "name": "readme"
  },
  "language_info": {
   "codemirror_mode": {
    "name": "ipython",
    "version": 3
   },
   "file_extension": ".py",
   "mimetype": "text/x-python",
   "name": "python",
   "nbconvert_exporter": "python",
   "pygments_lexer": "ipython3",
   "version": "3.7.4"
  },
  "toc": {
   "base_numbering": 1,
   "nav_menu": {},
   "number_sections": true,
   "sideBar": true,
   "skip_h1_title": false,
   "title_cell": "Table of Contents",
   "title_sidebar": "Contents",
   "toc_cell": false,
   "toc_position": {},
   "toc_section_display": true,
   "toc_window_display": false
  }
 },
 "nbformat": 4,
 "nbformat_minor": 4
}
