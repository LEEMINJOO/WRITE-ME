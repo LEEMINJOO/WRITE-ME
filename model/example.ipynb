{
 "cells": [
  {
   "cell_type": "code",
   "execution_count": 1,
   "metadata": {},
   "outputs": [],
   "source": [
    "import warnings\n",
    "warnings.filterwarnings('ignore')\n",
    "\n",
    "from datetime import datetime\n",
    "import pandas as pd"
   ]
  },
  {
   "cell_type": "code",
   "execution_count": 2,
   "metadata": {},
   "outputs": [],
   "source": [
    "from utils import get_all_top_30\n",
    "from utils import get_keywords\n",
    "from utils import get_search_news\n",
    "from database import WRITEMEDataBase"
   ]
  },
  {
   "cell_type": "code",
   "execution_count": 3,
   "metadata": {},
   "outputs": [],
   "source": [
    "db = WRITEMEDataBase()"
   ]
  },
  {
   "cell_type": "code",
   "execution_count": 4,
   "metadata": {},
   "outputs": [],
   "source": [
    "now = datetime.now()\n",
    "date = '%04d%02d%02d' % (now.year, now.month, now.day)\n",
    "time = now.strftime(\"%p\").lower()"
   ]
  },
  {
   "cell_type": "markdown",
   "metadata": {},
   "source": [
    "# 1. News Crawling"
   ]
  },
  {
   "cell_type": "code",
   "execution_count": 5,
   "metadata": {},
   "outputs": [
    {
     "data": {
      "text/html": [
       "<div>\n",
       "<style scoped>\n",
       "    .dataframe tbody tr th:only-of-type {\n",
       "        vertical-align: middle;\n",
       "    }\n",
       "\n",
       "    .dataframe tbody tr th {\n",
       "        vertical-align: top;\n",
       "    }\n",
       "\n",
       "    .dataframe thead th {\n",
       "        text-align: right;\n",
       "    }\n",
       "</style>\n",
       "<table border=\"1\" class=\"dataframe\">\n",
       "  <thead>\n",
       "    <tr style=\"text-align: right;\">\n",
       "      <th></th>\n",
       "      <th>title</th>\n",
       "      <th>text</th>\n",
       "      <th>url</th>\n",
       "      <th>category</th>\n",
       "      <th>date</th>\n",
       "    </tr>\n",
       "  </thead>\n",
       "  <tbody>\n",
       "    <tr>\n",
       "      <th>0</th>\n",
       "      <td>심상정 \"윤미향 해명 못 믿겠다, 민주당 책임있게 나서라\" 압박</td>\n",
       "      <td>심상정 정의당 대표가 21일 ‘윤미향 사태’와 관련해 “윤미향 당...</td>\n",
       "      <td>https://news.naver.com/main/ranking/read.nhn?r...</td>\n",
       "      <td>정치</td>\n",
       "      <td>20200521</td>\n",
       "    </tr>\n",
       "    <tr>\n",
       "      <th>30</th>\n",
       "      <td>'소주성'에도 빈부격차 더 커졌다…코로나 서민에 더 타격</td>\n",
       "      <td>1분기 소득 하위 20%와 상위 20%의 격차가 더 벌어졌다. ...</td>\n",
       "      <td>https://news.naver.com/main/ranking/read.nhn?r...</td>\n",
       "      <td>경제</td>\n",
       "      <td>20200521</td>\n",
       "    </tr>\n",
       "    <tr>\n",
       "      <th>60</th>\n",
       "      <td>\"연쇄살인 최신종, 어릴 때부터 무자비하고 여자 밝혀···형량 줄이는 법 빠삭\"</td>\n",
       "      <td>신상 공개된 연쇄살인범 최신종. /김원 유튜브채널 캡쳐[서울경제] 전북...</td>\n",
       "      <td>https://news.naver.com/main/ranking/read.nhn?r...</td>\n",
       "      <td>사회</td>\n",
       "      <td>20200521</td>\n",
       "    </tr>\n",
       "    <tr>\n",
       "      <th>90</th>\n",
       "      <td>中만든 90초 영상 뭐길래···트럼프 \"또라이·얼간이\" 분노 트윗</td>\n",
       "      <td>中 국영 CGTN '폼페이오 신뢰도 테스트'美 국무장관 겨냥한 인신공격...</td>\n",
       "      <td>https://news.naver.com/main/ranking/read.nhn?r...</td>\n",
       "      <td>세계</td>\n",
       "      <td>20200521</td>\n",
       "    </tr>\n",
       "    <tr>\n",
       "      <th>120</th>\n",
       "      <td>[취재K] “지구-소행성 충돌 가능성” 어떻게 나왔을까?</td>\n",
       "      <td>내일(22일) 오전 지구에 근접하는 소행성에 대한 관심이 뜨겁습니다....</td>\n",
       "      <td>https://news.naver.com/main/ranking/read.nhn?r...</td>\n",
       "      <td>IT/과학</td>\n",
       "      <td>20200521</td>\n",
       "    </tr>\n",
       "  </tbody>\n",
       "</table>\n",
       "</div>"
      ],
      "text/plain": [
       "                                            title  \\\n",
       "0             심상정 \"윤미향 해명 못 믿겠다, 민주당 책임있게 나서라\" 압박   \n",
       "30                '소주성'에도 빈부격차 더 커졌다…코로나 서민에 더 타격   \n",
       "60   \"연쇄살인 최신종, 어릴 때부터 무자비하고 여자 밝혀···형량 줄이는 법 빠삭\"   \n",
       "90           中만든 90초 영상 뭐길래···트럼프 \"또라이·얼간이\" 분노 트윗   \n",
       "120               [취재K] “지구-소행성 충돌 가능성” 어떻게 나왔을까?   \n",
       "\n",
       "                                                  text  \\\n",
       "0              심상정 정의당 대표가 21일 ‘윤미향 사태’와 관련해 “윤미향 당...   \n",
       "30              1분기 소득 하위 20%와 상위 20%의 격차가 더 벌어졌다. ...   \n",
       "60          신상 공개된 연쇄살인범 최신종. /김원 유튜브채널 캡쳐[서울경제] 전북...   \n",
       "90          中 국영 CGTN '폼페이오 신뢰도 테스트'美 국무장관 겨냥한 인신공격...   \n",
       "120          내일(22일) 오전 지구에 근접하는 소행성에 대한 관심이 뜨겁습니다....   \n",
       "\n",
       "                                                   url category      date  \n",
       "0    https://news.naver.com/main/ranking/read.nhn?r...       정치  20200521  \n",
       "30   https://news.naver.com/main/ranking/read.nhn?r...       경제  20200521  \n",
       "60   https://news.naver.com/main/ranking/read.nhn?r...       사회  20200521  \n",
       "90   https://news.naver.com/main/ranking/read.nhn?r...       세계  20200521  \n",
       "120  https://news.naver.com/main/ranking/read.nhn?r...    IT/과학  20200521  "
      ]
     },
     "execution_count": 5,
     "metadata": {},
     "output_type": "execute_result"
    }
   ],
   "source": [
    "df = get_all_top_30()\n",
    "df.groupby('category').head(1)"
   ]
  },
  {
   "cell_type": "markdown",
   "metadata": {},
   "source": [
    "# 2. Get keywords"
   ]
  },
  {
   "cell_type": "code",
   "execution_count": 6,
   "metadata": {},
   "outputs": [],
   "source": [
    "keywords = df.groupby('category').apply(get_keywords)"
   ]
  },
  {
   "cell_type": "code",
   "execution_count": 7,
   "metadata": {},
   "outputs": [
    {
     "data": {
      "text/plain": [
       "category\n",
       "IT/과학     [노트, 출시, 텔레콤, 회장, 요금]\n",
       "경제       [주류, 코로나, 두산, 부회장, 배달]\n",
       "사회       [확진, 할머니, 등교, 병원, 간호사]\n",
       "세계        [중국, 일본, 백신, 코로나, 한국]\n",
       "정치       [청원, 의원, 국민, 성폭행, 청와대]\n",
       "dtype: object"
      ]
     },
     "execution_count": 7,
     "metadata": {},
     "output_type": "execute_result"
    }
   ],
   "source": [
    "keywords"
   ]
  },
  {
   "cell_type": "markdown",
   "metadata": {},
   "source": [
    "# 3. Get hints"
   ]
  },
  {
   "cell_type": "code",
   "execution_count": 8,
   "metadata": {},
   "outputs": [
    {
     "name": "stdout",
     "output_type": "stream",
     "text": [
      "정치 청원 ['국민', '성폭행', '청와대', '개월', '사실']\n",
      "[속보]\"25개월 딸 성폭행한 초등생 처벌\" 청원은 '허위'\n"
     ]
    }
   ],
   "source": [
    "cat = '정치'\n",
    "key = keywords[cat][0]\n",
    "\n",
    "cat_df = df[df['category']==cat]\n",
    "key_df = cat_df[cat_df['text'].str.contains(key)]\n",
    "n = len(key_df)\n",
    "search_df = get_search_news(key, news=n).iloc[:n]\n",
    "hints = get_keywords(pd.concat([key_df, search_df], axis=0), only_noun=True, n=6)\n",
    "if key in hints:\n",
    "    hints.remove(key)\n",
    "hints = hints[:5]\n",
    "print(cat, key, hints)\n",
    "print(key_df['title'].iloc[0])"
   ]
  },
  {
   "cell_type": "markdown",
   "metadata": {},
   "source": [
    "# 4. To DB"
   ]
  },
  {
   "cell_type": "code",
   "execution_count": 14,
   "metadata": {},
   "outputs": [
    {
     "data": {
      "text/plain": [
       "()"
      ]
     },
     "execution_count": 14,
     "metadata": {},
     "output_type": "execute_result"
    }
   ],
   "source": [
    "db.select_keywords()"
   ]
  },
  {
   "cell_type": "code",
   "execution_count": 15,
   "metadata": {},
   "outputs": [
    {
     "data": {
      "text/plain": [
       "()"
      ]
     },
     "execution_count": 15,
     "metadata": {},
     "output_type": "execute_result"
    }
   ],
   "source": [
    "db.select_hints()"
   ]
  },
  {
   "cell_type": "code",
   "execution_count": 16,
   "metadata": {},
   "outputs": [],
   "source": [
    "cat = '정치'\n",
    "db.insert_keywords(keywords[cat], cat, date, time)"
   ]
  },
  {
   "cell_type": "code",
   "execution_count": 17,
   "metadata": {},
   "outputs": [],
   "source": [
    "cat = '정치'\n",
    "key = keywords[cat][0]\n",
    "keywordID = db.keywordID(key, db.categoryID(cat))\n",
    "db.insert_hints(keywordID, hints)"
   ]
  },
  {
   "cell_type": "code",
   "execution_count": 18,
   "metadata": {},
   "outputs": [
    {
     "data": {
      "text/html": [
       "<div>\n",
       "<style scoped>\n",
       "    .dataframe tbody tr th:only-of-type {\n",
       "        vertical-align: middle;\n",
       "    }\n",
       "\n",
       "    .dataframe tbody tr th {\n",
       "        vertical-align: top;\n",
       "    }\n",
       "\n",
       "    .dataframe thead th {\n",
       "        text-align: right;\n",
       "    }\n",
       "</style>\n",
       "<table border=\"1\" class=\"dataframe\">\n",
       "  <thead>\n",
       "    <tr style=\"text-align: right;\">\n",
       "      <th></th>\n",
       "      <th>keywordID</th>\n",
       "      <th>categoryID</th>\n",
       "      <th>keywordName</th>\n",
       "      <th>date</th>\n",
       "      <th>time</th>\n",
       "    </tr>\n",
       "  </thead>\n",
       "  <tbody>\n",
       "    <tr>\n",
       "      <th>0</th>\n",
       "      <td>1</td>\n",
       "      <td>1</td>\n",
       "      <td>청원</td>\n",
       "      <td>2020-05-19</td>\n",
       "      <td>pm</td>\n",
       "    </tr>\n",
       "    <tr>\n",
       "      <th>1</th>\n",
       "      <td>2</td>\n",
       "      <td>1</td>\n",
       "      <td>의원</td>\n",
       "      <td>2020-05-19</td>\n",
       "      <td>pm</td>\n",
       "    </tr>\n",
       "    <tr>\n",
       "      <th>2</th>\n",
       "      <td>3</td>\n",
       "      <td>1</td>\n",
       "      <td>국민</td>\n",
       "      <td>2020-05-19</td>\n",
       "      <td>pm</td>\n",
       "    </tr>\n",
       "    <tr>\n",
       "      <th>3</th>\n",
       "      <td>4</td>\n",
       "      <td>1</td>\n",
       "      <td>성폭행</td>\n",
       "      <td>2020-05-19</td>\n",
       "      <td>pm</td>\n",
       "    </tr>\n",
       "    <tr>\n",
       "      <th>4</th>\n",
       "      <td>5</td>\n",
       "      <td>1</td>\n",
       "      <td>청와대</td>\n",
       "      <td>2020-05-19</td>\n",
       "      <td>pm</td>\n",
       "    </tr>\n",
       "  </tbody>\n",
       "</table>\n",
       "</div>"
      ],
      "text/plain": [
       "   keywordID  categoryID keywordName        date time\n",
       "0          1           1          청원  2020-05-19   pm\n",
       "1          2           1          의원  2020-05-19   pm\n",
       "2          3           1          국민  2020-05-19   pm\n",
       "3          4           1         성폭행  2020-05-19   pm\n",
       "4          5           1         청와대  2020-05-19   pm"
      ]
     },
     "execution_count": 18,
     "metadata": {},
     "output_type": "execute_result"
    }
   ],
   "source": [
    "result = db.select_keywords()\n",
    "result = pd.DataFrame(result)\n",
    "result"
   ]
  },
  {
   "cell_type": "code",
   "execution_count": 19,
   "metadata": {},
   "outputs": [
    {
     "data": {
      "text/html": [
       "<div>\n",
       "<style scoped>\n",
       "    .dataframe tbody tr th:only-of-type {\n",
       "        vertical-align: middle;\n",
       "    }\n",
       "\n",
       "    .dataframe tbody tr th {\n",
       "        vertical-align: top;\n",
       "    }\n",
       "\n",
       "    .dataframe thead th {\n",
       "        text-align: right;\n",
       "    }\n",
       "</style>\n",
       "<table border=\"1\" class=\"dataframe\">\n",
       "  <thead>\n",
       "    <tr style=\"text-align: right;\">\n",
       "      <th></th>\n",
       "      <th>keywordID</th>\n",
       "      <th>hintID</th>\n",
       "      <th>hintName</th>\n",
       "    </tr>\n",
       "  </thead>\n",
       "  <tbody>\n",
       "    <tr>\n",
       "      <th>0</th>\n",
       "      <td>1</td>\n",
       "      <td>1</td>\n",
       "      <td>수업</td>\n",
       "    </tr>\n",
       "    <tr>\n",
       "      <th>1</th>\n",
       "      <td>1</td>\n",
       "      <td>2</td>\n",
       "      <td>학생</td>\n",
       "    </tr>\n",
       "    <tr>\n",
       "      <th>2</th>\n",
       "      <td>1</td>\n",
       "      <td>3</td>\n",
       "      <td>학교</td>\n",
       "    </tr>\n",
       "    <tr>\n",
       "      <th>3</th>\n",
       "      <td>1</td>\n",
       "      <td>4</td>\n",
       "      <td>코로나</td>\n",
       "    </tr>\n",
       "    <tr>\n",
       "      <th>4</th>\n",
       "      <td>1</td>\n",
       "      <td>5</td>\n",
       "      <td>교육부</td>\n",
       "    </tr>\n",
       "  </tbody>\n",
       "</table>\n",
       "</div>"
      ],
      "text/plain": [
       "   keywordID  hintID hintName\n",
       "0          1       1       수업\n",
       "1          1       2       학생\n",
       "2          1       3       학교\n",
       "3          1       4      코로나\n",
       "4          1       5      교육부"
      ]
     },
     "execution_count": 19,
     "metadata": {},
     "output_type": "execute_result"
    }
   ],
   "source": [
    "result = db.select_hints()\n",
    "result = pd.DataFrame(result)\n",
    "result"
   ]
  },
  {
   "cell_type": "code",
   "execution_count": 20,
   "metadata": {},
   "outputs": [],
   "source": [
    "# db.delete_keywords()\n",
    "# db.delete_hints()"
   ]
  },
  {
   "cell_type": "code",
   "execution_count": null,
   "metadata": {},
   "outputs": [],
   "source": [
    "# db.close()"
   ]
  }
 ],
 "metadata": {
  "kernelspec": {
   "display_name": "readme",
   "language": "python",
   "name": "readme"
  },
  "language_info": {
   "codemirror_mode": {
    "name": "ipython",
    "version": 3
   },
   "file_extension": ".py",
   "mimetype": "text/x-python",
   "name": "python",
   "nbconvert_exporter": "python",
   "pygments_lexer": "ipython3",
   "version": "3.7.4"
  },
  "toc": {
   "base_numbering": 1,
   "nav_menu": {},
   "number_sections": true,
   "sideBar": true,
   "skip_h1_title": false,
   "title_cell": "Table of Contents",
   "title_sidebar": "Contents",
   "toc_cell": false,
   "toc_position": {},
   "toc_section_display": true,
   "toc_window_display": false
  }
 },
 "nbformat": 4,
 "nbformat_minor": 4
}
